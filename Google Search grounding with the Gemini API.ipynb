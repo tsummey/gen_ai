{
 "cells": [
  {
   "cell_type": "markdown",
   "id": "74484621-7141-43b0-9eb1-9c364b0bac9e",
   "metadata": {},
   "source": [
    "***\n",
    "<span style=\"font-size:32px; color:rgba(0, 0, 255, 0.5);\">Day 4 - Domain-Specific LLMs</span>\n",
    "\n",
    "---"
   ]
  },
  {
   "cell_type": "markdown",
   "id": "e89d230b-35d6-4d20-9492-9224295ea87e",
   "metadata": {},
   "source": [
    "<table style=\"width: 100%;\">\n",
    "  <tr>\n",
    "    <td style=\"background-color: rgba(0, 255, 0, 0.2); text-align: center; font-size: 16px;\">\n",
    "    </td>\n",
    "  </tr>\n",
    "</table>"
   ]
  },
  {
   "cell_type": "markdown",
   "id": "411783ed-cde0-408a-86fb-c865d801eb79",
   "metadata": {},
   "source": [
    "<span style=\"font-size:24px; color:rgba(0, 0, 0, 0.5);\">Google Search grounding with the Gemini API</span>\n",
    "\n",
    "---\n",
    "Large language models (LLMs) have emerged as powerful tools for tackling complex\n",
    "challenges in numerous domains. While early iterations focused on general-purpose tasks,\n",
    "recent developments have highlighted the potential of fine-tuning LLMs to address specific\n",
    "problems within specialized fields. This whitepaper explores these concepts in two distinct\n",
    "domains: cybersecurity and medicine. Each showcases the unique ability of LLMs to enhance\n",
    "existing workflows and unlock new possibilities.\n",
    "Cybersecurity presents a number of unique challenges for LLMs, including a scarcity of\n",
    "publicly available data, a wide diversity of highly technical concepts, and information about\n",
    "threats that change on a daily basis. Additionally, sensitive use cases, like malware analysis,\n",
    "necessitate specific considerations for model development. We address these challenges\n",
    "... recent developments\n",
    "have highlighted the potential\n",
    "of fine-tuning LLMs\n",
    "to address specific problems\n",
    "within specialized fields.\n",
    "\n",
    "Solving Domain-Specific Problems Using LLMs\n",
    "\n",
    "September 2024 5\n",
    "by focusing on cybersecurity-specific content and tasks, pairing security-focused language\n",
    "models with a suite of supporting techniques to offer improved performance for vital tasks\n",
    "like threat identification and risk analysis.\n",
    "\n",
    "<b>Authors:</b><br>\n",
    "Christopher Semturs, Shekoofeh Azizi, Scott Coull, Umesh Shankar and Wieland Holfelder"
   ]
  },
  {
   "cell_type": "markdown",
   "id": "af56636d-485f-4c2f-b650-620c3e4b2cbd",
   "metadata": {},
   "source": [
    "<span style=\"font-size:18px; color:rgba(0, 0, 0, 0.5);\">Resources</span>\n",
    "\n",
    "---\n",
    "**Whitepaper**<br>\n",
    "https://www.kaggle.com/whitepaper-solving-domains-specific-problems-using-llms\n",
    "\n",
    "**Solving Domain-Specific Problems Using LLM Podcast**<br>\n",
    "https://www.youtube.com/watch?v=b1a4ZOQ8XdI\n",
    "\n",
    "**Solving Domain-Specific Problems Using LLM Livestream**<br>\n",
    "https://www.youtube.com/watch?v=odvuLMJWUSU\n",
    "\n",
    "**Get your API key from**<br>\n",
    "https://aistudio.google.com/app/apikey\n",
    "\n",
    "**Kaggle**<br>\n",
    "https://www.kaggle.com/code/markishere/day-4-google-search-grounding"
   ]
  },
  {
   "cell_type": "markdown",
   "id": "6e9d6978-f9a1-401b-84c1-053104edd878",
   "metadata": {},
   "source": [
    "<span style=\"font-size:18px; color:rgba(0, 0, 0, 0.5);\">Before you begin</span>\n",
    "\n",
    "---\n",
    "<font color=red><b>Note:</b> Running this code will require that Google billing is activated. If you're new to Google, a $300 credit is offered over a period of the first 90 days then, unless you make a change, reverts to \"Pay-As-You-GO\" which isn't bad if you learn to control your resources. In Google AI Studio, you have to create a project and billing profile. Then assign the billing profile to the project. Once you have done that, activate the beginning of the 90 days. Happy learning!</font>"
   ]
  },
  {
   "cell_type": "code",
   "execution_count": 23,
   "id": "d27d9255-4798-4504-9f23-1ceb345c78dd",
   "metadata": {},
   "outputs": [],
   "source": [
    "# %pip install google-generativeai"
   ]
  },
  {
   "cell_type": "markdown",
   "id": "52fd7f53-8b65-43bf-92ca-50d3e9f9f703",
   "metadata": {},
   "source": [
    "<span style=\"font-size:18px; color:rgba(0, 0, 0, 0.5);\">Libraries</span>\n",
    "\n",
    "---"
   ]
  },
  {
   "cell_type": "code",
   "execution_count": 24,
   "id": "4f35e788-1bed-48af-830b-a0577cb8724d",
   "metadata": {},
   "outputs": [],
   "source": [
    "import os, io\n",
    "\n",
    "from dotenv import load_dotenv\n",
    "\n",
    "import google.generativeai as genai\n",
    "\n",
    "from IPython.display import Markdown, HTML, display"
   ]
  },
  {
   "cell_type": "markdown",
   "id": "953dc51a-4be9-4fcf-a65b-9c31cd21a99c",
   "metadata": {},
   "source": [
    "<span style=\"font-size:18px; color:rgba(0, 0, 0, 0.5);\">Initialize the API</span>\n",
    "\n",
    "---"
   ]
  },
  {
   "cell_type": "code",
   "execution_count": 5,
   "id": "fd8497bd-10e2-494d-8753-9096167d26c9",
   "metadata": {},
   "outputs": [],
   "source": [
    "# Load API key from .env file\n",
    "load_dotenv()\n",
    "api_key = os.getenv(\"GAI_API_KEY\")\n",
    "\n",
    "# Set up the API key for the genai library\n",
    "genai.configure(api_key=api_key)"
   ]
  },
  {
   "cell_type": "markdown",
   "id": "369bc9ed-664e-4cde-89bd-d570e619aaa6",
   "metadata": {},
   "source": [
    "<span style=\"font-size:18px; color:rgba(0, 0, 0, 0.5);\">Explore available models</span>\n",
    "\n",
    "---\n",
    "Search grounding is a tool available in the -002 series of models. Find a model that supports it through the models.list endpoint. You can also find more information about different model capabilities on the models page."
   ]
  },
  {
   "cell_type": "code",
   "execution_count": 6,
   "id": "204c218d-03e5-4be6-864a-1071e27ef91e",
   "metadata": {},
   "outputs": [
    {
     "name": "stdout",
     "output_type": "stream",
     "text": [
      "models/gemini-1.5-pro-002\n",
      "models/gemini-1.5-flash-002\n"
     ]
    }
   ],
   "source": [
    "for model in genai.list_models():\n",
    "    if \"002\" in model.name:\n",
    "        print(model.name)"
   ]
  },
  {
   "cell_type": "markdown",
   "id": "a8d42834-4a0e-4b98-8a4e-6e765ec059a1",
   "metadata": {},
   "source": [
    "<span style=\"font-size:18px; color:rgba(0, 0, 0, 0.5);\">Use search grounding</span>\n",
    "\n",
    "---\n",
    "To enable search grounding, you specify it as a tool: `google_search_retrieval`. Like other tools, this can be supplied as a parameter to the model (to use on all chat turns or calls to `generate_content`), or it can be supplied per-turn to `chat.send_message`.\n",
    "\n",
    "\n",
    "<table align=left>\n",
    "  <td>\n",
    "    <a target=\"_blank\" href=\"https://aistudio.google.com/app/prompts/1GTkO-gH4vd6G7LpBJ6Ay7U1OaJer7yDD\"><img src=\"https://ai.google.dev/site-assets/images/marketing/home/icon-ais.png\" style=\"height: 24px\" height=24/> Open in AI Studio</a>\n",
    "  </td>\n",
    "</table"
   ]
  },
  {
   "cell_type": "code",
   "execution_count": 8,
   "id": "05e6c9de-8e74-4950-8a38-2fc4b22b48fe",
   "metadata": {},
   "outputs": [
    {
     "data": {
      "text/markdown": [
       "I do not have access to real-time information, including live ticket sales and constantly updating concert schedules.  To find the date and location of Taylor Swift's next concert, you should check these resources:\n",
       "\n",
       "* **Taylor Swift's Official Website:** This is the best place to get the most accurate and up-to-date information.\n",
       "* **Ticketmaster:** Search for Taylor Swift on Ticketmaster's website.\n",
       "* **Other Ticket Retailers:** Check other major ticket sellers like Live Nation, etc.\n",
       "* **Social Media:** Follow Taylor Swift's official social media accounts for announcements.\n",
       "\n",
       "\n",
       "Keep in mind that concert dates and locations sell out quickly, so be prepared to act fast if you find a show you want to attend.\n"
      ],
      "text/plain": [
       "<IPython.core.display.Markdown object>"
      ]
     },
     "execution_count": 8,
     "metadata": {},
     "output_type": "execute_result"
    }
   ],
   "source": [
    "# Ask for information without search grounding.\n",
    "model = genai.GenerativeModel(\"gemini-1.5-flash-002\")\n",
    "\n",
    "response = model.generate_content(\"When and where is Taylor Swift's next concert?\")\n",
    "\n",
    "Markdown(response.text)"
   ]
  },
  {
   "cell_type": "markdown",
   "id": "0e21868d-1f19-4928-bcf5-28980b1e644d",
   "metadata": {},
   "source": [
    "Now try with grounding enabled.\n",
    "\n",
    "<table align=left>\n",
    "  <td>\n",
    "    <a target=\"_blank\" href=\"https://aistudio.google.com/prompts/14lDR0VjSni6BEUCZUBqj5PzTn3J194Th\"><img src=\"https://ai.google.dev/site-assets/images/marketing/home/icon-ais.png\" style=\"height: 24px\" height=24/> Open in AI Studio</a>\n",
    "  </td>\n",
    "</table>"
   ]
  },
  {
   "cell_type": "code",
   "execution_count": 13,
   "id": "347becc7-be54-4fdb-a824-5b68b6ea1dcb",
   "metadata": {},
   "outputs": [
    {
     "data": {
      "text/markdown": [
       "Based on the provided text, Taylor Swift's next concert is part of her Eras Tour.  The sources mention several upcoming dates and locations:\n",
       "\n",
       "* **October 18-20, 2024:** Hard Rock Stadium in Miami Gardens, Florida, USA. This is the start of the second North American leg of the tour.\n",
       "\n",
       "* **October 2024 (specific dates not provided):**  Additional dates in North America are planned for cities including Miami, New Orleans, Indianapolis, and Toronto.\n",
       "\n",
       "* **February 7, 2024 (and beyond):** The international leg of the tour resumes on this date, though specific locations aren't detailed in these sources.\n",
       "\n",
       "* **November 21-23, 2024 & December 6-8, 2024:**  These are international dates, though the specific locations are not provided in the given sources.  \n",
       "\n",
       "* **2024 (specific dates not provided):**  The tour will also be in Australia.\n",
       "\n",
       "\n",
       "To find the exact date and location of *the next* concert, you would need to consult Taylor Swift's official website (mentioned in source [5]) or other official ticketing sources for the most up-to-date information.  The information above is current as of November 20, 2024.\n"
      ],
      "text/plain": [
       "<IPython.core.display.Markdown object>"
      ]
     },
     "execution_count": 13,
     "metadata": {},
     "output_type": "execute_result"
    }
   ],
   "source": [
    "# And now re-run the same query with search grounding enabled.\n",
    "model = genai.GenerativeModel(\n",
    "    \"gemini-1.5-flash-002\",\n",
    "    tools=\"google_search_retrieval\")\n",
    "\n",
    "response = model.generate_content(\"When and where is Taylor Swift's next concert?\")\n",
    "rc = response.candidates[0]\n",
    "\n",
    "Markdown(rc.content.parts[0].text)"
   ]
  },
  {
   "cell_type": "markdown",
   "id": "d30359c4-2980-49c2-ac9e-947919f2050d",
   "metadata": {},
   "source": [
    "<span style=\"font-size:18px; color:rgba(0, 0, 0, 0.5);\">Response metadata</span>\n",
    "\n",
    "---\n",
    "When search grounding is used, the model returns extra metadata that includes links to search suggestions, supporting documents and information on how the supporting documents were used.\n",
    "\n",
    "Each \"grounding chunk\" represents information retrieved from Google Search that was used in the grounded generation request. Following the URI will take you to the source."
   ]
  },
  {
   "cell_type": "code",
   "execution_count": 14,
   "id": "3d1ac6b3-de5a-4a21-80fc-8cf89bf4b7ef",
   "metadata": {},
   "outputs": [
    {
     "name": "stdout",
     "output_type": "stream",
     "text": [
      "web {\n",
      "  uri: \"https://vertexaisearch.cloud.google.com/grounding-api-redirect/AZnLMfz_tCCuaueLZ9fJVZxBa5iJ_vt8mvaTZcryXesHQYHfESp6sZldeLWYTLko4jIUwvj5ne2pAbX1NTAa9APYvANMOOeZCdg_F3yyip1E46mJZznsuchgb04_H5E_a2A7jY1s2PL8tQ==\"\n",
      "  title: \"wikipedia.org\"\n",
      "}\n",
      "\n",
      "web {\n",
      "  uri: \"https://vertexaisearch.cloud.google.com/grounding-api-redirect/AZnLMfzuwbBu_zT2QjqFKqCd3KiwTD5VnX9liE7sVRsnOIcNFN6kNm1lIVC705_XSoa8_qyZiY21jSbLJ8mV9T_HDnZsFzEiJ9Wpj_PHyNrxyUkCjTTLwhKjIFQzKiZkw_eE-lN5T6BKgbwDm-bGunyZYjnlzBz0Yn6VJWd8PduwWTFYNALqT_yxpFQ2Ed-TZ-tPc7YV0oSQZEHx2UeedDmdIiRqzjBTyG771_OA-BSJIVHbLNnJAvoiH4ZUj7UyrOVwjxxvNX5W8ueIpy0=\"\n",
      "  title: \"hindustantimes.com\"\n",
      "}\n",
      "\n",
      "web {\n",
      "  uri: \"https://vertexaisearch.cloud.google.com/grounding-api-redirect/AZnLMfweqf3C-0jeyBCYaBd7Os4aGSEu-Gs6RWRhfbzC7sl47MTXqIcQl7dBNhiFxkFcXthI8jVkbSfPFy5VHtQiaphovnwUjGCnBGURMG2zKN6q6EcxNgkVZ3QZkDXyIo4n8UDS5BcZNg==\"\n",
      "  title: \"frontiertouring.com\"\n",
      "}\n",
      "\n"
     ]
    }
   ],
   "source": [
    "chunks = rc.grounding_metadata.grounding_chunks\n",
    "for chunk in chunks:\n",
    "    print(chunk)"
   ]
  },
  {
   "cell_type": "markdown",
   "id": "d2f8c9ba-d91e-4824-95f8-f705fd2a7ba7",
   "metadata": {},
   "source": [
    "As part of the response, there is a standalone styled HTML content block that you use to link back to relevant search suggestions related to the generation."
   ]
  },
  {
   "cell_type": "code",
   "execution_count": 15,
   "id": "7ebf29f6-3da0-47fa-8059-876917e61eaf",
   "metadata": {},
   "outputs": [
    {
     "data": {
      "text/html": [
       "<style>\n",
       ".container {\n",
       "  align-items: center;\n",
       "  border-radius: 8px;\n",
       "  display: flex;\n",
       "  font-family: Google Sans, Roboto, sans-serif;\n",
       "  font-size: 14px;\n",
       "  line-height: 20px;\n",
       "  padding: 8px 12px;\n",
       "}\n",
       ".chip {\n",
       "  display: inline-block;\n",
       "  border: solid 1px;\n",
       "  border-radius: 16px;\n",
       "  min-width: 14px;\n",
       "  padding: 5px 16px;\n",
       "  text-align: center;\n",
       "  user-select: none;\n",
       "  margin: 0 8px;\n",
       "  -webkit-tap-highlight-color: transparent;\n",
       "}\n",
       ".carousel {\n",
       "  overflow: auto;\n",
       "  scrollbar-width: none;\n",
       "  white-space: nowrap;\n",
       "  margin-right: -12px;\n",
       "}\n",
       ".headline {\n",
       "  display: flex;\n",
       "  margin-right: 4px;\n",
       "}\n",
       ".gradient-container {\n",
       "  position: relative;\n",
       "}\n",
       ".gradient {\n",
       "  position: absolute;\n",
       "  transform: translate(3px, -9px);\n",
       "  height: 36px;\n",
       "  width: 9px;\n",
       "}\n",
       "@media (prefers-color-scheme: light) {\n",
       "  .container {\n",
       "    background-color: #fafafa;\n",
       "    box-shadow: 0 0 0 1px #0000000f;\n",
       "  }\n",
       "  .headline-label {\n",
       "    color: #1f1f1f;\n",
       "  }\n",
       "  .chip {\n",
       "    background-color: #ffffff;\n",
       "    border-color: #d2d2d2;\n",
       "    color: #5e5e5e;\n",
       "    text-decoration: none;\n",
       "  }\n",
       "  .chip:hover {\n",
       "    background-color: #f2f2f2;\n",
       "  }\n",
       "  .chip:focus {\n",
       "    background-color: #f2f2f2;\n",
       "  }\n",
       "  .chip:active {\n",
       "    background-color: #d8d8d8;\n",
       "    border-color: #b6b6b6;\n",
       "  }\n",
       "  .logo-dark {\n",
       "    display: none;\n",
       "  }\n",
       "  .gradient {\n",
       "    background: linear-gradient(90deg, #fafafa 15%, #fafafa00 100%);\n",
       "  }\n",
       "}\n",
       "@media (prefers-color-scheme: dark) {\n",
       "  .container {\n",
       "    background-color: #1f1f1f;\n",
       "    box-shadow: 0 0 0 1px #ffffff26;\n",
       "  }\n",
       "  .headline-label {\n",
       "    color: #fff;\n",
       "  }\n",
       "  .chip {\n",
       "    background-color: #2c2c2c;\n",
       "    border-color: #3c4043;\n",
       "    color: #fff;\n",
       "    text-decoration: none;\n",
       "  }\n",
       "  .chip:hover {\n",
       "    background-color: #353536;\n",
       "  }\n",
       "  .chip:focus {\n",
       "    background-color: #353536;\n",
       "  }\n",
       "  .chip:active {\n",
       "    background-color: #464849;\n",
       "    border-color: #53575b;\n",
       "  }\n",
       "  .logo-light {\n",
       "    display: none;\n",
       "  }\n",
       "  .gradient {\n",
       "    background: linear-gradient(90deg, #1f1f1f 15%, #1f1f1f00 100%);\n",
       "  }\n",
       "}\n",
       "</style>\n",
       "<div class=\"container\">\n",
       "  <div class=\"headline\">\n",
       "    <svg class=\"logo-light\" width=\"18\" height=\"18\" viewBox=\"9 9 35 35\" fill=\"none\" xmlns=\"http://www.w3.org/2000/svg\">\n",
       "      <path fill-rule=\"evenodd\" clip-rule=\"evenodd\" d=\"M42.8622 27.0064C42.8622 25.7839 42.7525 24.6084 42.5487 23.4799H26.3109V30.1568H35.5897C35.1821 32.3041 33.9596 34.1222 32.1258 35.3448V39.6864H37.7213C40.9814 36.677 42.8622 32.2571 42.8622 27.0064V27.0064Z\" fill=\"#4285F4\"/>\n",
       "      <path fill-rule=\"evenodd\" clip-rule=\"evenodd\" d=\"M26.3109 43.8555C30.9659 43.8555 34.8687 42.3195 37.7213 39.6863L32.1258 35.3447C30.5898 36.3792 28.6306 37.0061 26.3109 37.0061C21.8282 37.0061 18.0195 33.9811 16.6559 29.906H10.9194V34.3573C13.7563 39.9841 19.5712 43.8555 26.3109 43.8555V43.8555Z\" fill=\"#34A853\"/>\n",
       "      <path fill-rule=\"evenodd\" clip-rule=\"evenodd\" d=\"M16.6559 29.8904C16.3111 28.8559 16.1074 27.7588 16.1074 26.6146C16.1074 25.4704 16.3111 24.3733 16.6559 23.3388V18.8875H10.9194C9.74388 21.2072 9.06992 23.8247 9.06992 26.6146C9.06992 29.4045 9.74388 32.022 10.9194 34.3417L15.3864 30.8621L16.6559 29.8904V29.8904Z\" fill=\"#FBBC05\"/>\n",
       "      <path fill-rule=\"evenodd\" clip-rule=\"evenodd\" d=\"M26.3109 16.2386C28.85 16.2386 31.107 17.1164 32.9095 18.8091L37.8466 13.8719C34.853 11.082 30.9659 9.3736 26.3109 9.3736C19.5712 9.3736 13.7563 13.245 10.9194 18.8875L16.6559 23.3388C18.0195 19.2636 21.8282 16.2386 26.3109 16.2386V16.2386Z\" fill=\"#EA4335\"/>\n",
       "    </svg>\n",
       "    <svg class=\"logo-dark\" width=\"18\" height=\"18\" viewBox=\"0 0 48 48\" xmlns=\"http://www.w3.org/2000/svg\">\n",
       "      <circle cx=\"24\" cy=\"23\" fill=\"#FFF\" r=\"22\"/>\n",
       "      <path d=\"M33.76 34.26c2.75-2.56 4.49-6.37 4.49-11.26 0-.89-.08-1.84-.29-3H24.01v5.99h8.03c-.4 2.02-1.5 3.56-3.07 4.56v.75l3.91 2.97h.88z\" fill=\"#4285F4\"/>\n",
       "      <path d=\"M15.58 25.77A8.845 8.845 0 0 0 24 31.86c1.92 0 3.62-.46 4.97-1.31l4.79 3.71C31.14 36.7 27.65 38 24 38c-5.93 0-11.01-3.4-13.45-8.36l.17-1.01 4.06-2.85h.8z\" fill=\"#34A853\"/>\n",
       "      <path d=\"M15.59 20.21a8.864 8.864 0 0 0 0 5.58l-5.03 3.86c-.98-2-1.53-4.25-1.53-6.64 0-2.39.55-4.64 1.53-6.64l1-.22 3.81 2.98.22 1.08z\" fill=\"#FBBC05\"/>\n",
       "      <path d=\"M24 14.14c2.11 0 4.02.75 5.52 1.98l4.36-4.36C31.22 9.43 27.81 8 24 8c-5.93 0-11.01 3.4-13.45 8.36l5.03 3.85A8.86 8.86 0 0 1 24 14.14z\" fill=\"#EA4335\"/>\n",
       "    </svg>\n",
       "    <div class=\"gradient-container\"><div class=\"gradient\"></div></div>\n",
       "  </div>\n",
       "  <div class=\"carousel\">\n",
       "    <a class=\"chip\" href=\"https://vertexaisearch.cloud.google.com/grounding-api-redirect/AZnLMfzVH01Wv1BLFL4SJOC8Yspwvvr2SHba-eDb0M1jRvCSii5n7POP11gYg4ZrgsMZIwUWlASgpQ_Bw2lR83JROzjsd5_bkesXL3K95wqNierBA7sXJqeWZajMTqm-g_FGACxpFFsg6NxGa9KI85vz4CiljXsHgIll6yrPN1Ytl8kAPn8vGiRbcjFCQViSBWH6GtV6DY_36C8b4b9pt-cvwGcYKmN4yfxCpFSESQ==\">When is Taylor Swift&#39;s next concert?</a>\n",
       "  </div>\n",
       "</div>\n"
      ],
      "text/plain": [
       "<IPython.core.display.HTML object>"
      ]
     },
     "execution_count": 15,
     "metadata": {},
     "output_type": "execute_result"
    }
   ],
   "source": [
    "HTML(rc.grounding_metadata.search_entry_point.rendered_content)"
   ]
  },
  {
   "cell_type": "markdown",
   "id": "251d8a93-9108-41b4-9d96-8d607594570f",
   "metadata": {},
   "source": [
    "The `grounding_supports` in the metadata provide a way for you to correlate the grounding chunks used to the generated output text."
   ]
  },
  {
   "cell_type": "code",
   "execution_count": 16,
   "id": "4b684906-8712-4ea3-90e7-04fa324cab2e",
   "metadata": {},
   "outputs": [
    {
     "name": "stdout",
     "output_type": "stream",
     "text": [
      "segment {\n",
      "  end_index: 81\n",
      "  text: \"Based on the provided text, Taylor Swift\\'s next concert is part of her Eras Tour.\"\n",
      "}\n",
      "grounding_chunk_indices: 0\n",
      "grounding_chunk_indices: 1\n",
      "confidence_scores: 0.637113869\n",
      "confidence_scores: 0.73510325\n",
      "\n",
      "segment {\n",
      "  start_index: 284\n",
      "  end_index: 448\n",
      "  text: \"* **October 2024 (specific dates not provided):**  Additional dates in North America are planned for cities including Miami, New Orleans, Indianapolis, and Toronto.\"\n",
      "}\n",
      "grounding_chunk_indices: 1\n",
      "confidence_scores: 0.750127256\n",
      "\n",
      "segment {\n",
      "  start_index: 757\n",
      "  end_index: 835\n",
      "  text: \"* **2024 (specific dates not provided):**  The tour will also be in Australia.\"\n",
      "}\n",
      "grounding_chunk_indices: 2\n",
      "confidence_scores: 0.658151269\n",
      "\n"
     ]
    }
   ],
   "source": [
    "supports = rc.grounding_metadata.grounding_supports\n",
    "for support in supports:\n",
    "    print(support)"
   ]
  },
  {
   "cell_type": "markdown",
   "id": "b497c8aa-a480-421f-987b-8757ed9f5ace",
   "metadata": {},
   "source": [
    "These supports can be used to highlight text in the response, or build tables of footnotes."
   ]
  },
  {
   "cell_type": "code",
   "execution_count": 18,
   "id": "416f252f-0d8c-401e-b38d-fc526aaf5a92",
   "metadata": {},
   "outputs": [
    {
     "data": {
      "text/markdown": [
       "Supported text:\n",
       "\n",
       " * Based on the provided text, Taylor Swift's next concert is part of her Eras Tour.<sup>[1]</sup><sup>[2]</sup>\n",
       "\n",
       " * * **October 2024 (specific dates not provided):**  Additional dates in North America are planned for cities including Miami, New Orleans, Indianapolis, and Toronto.<sup>[2]</sup>\n",
       "\n",
       " * * **2024 (specific dates not provided):**  The tour will also be in Australia.<sup>[3]</sup>\n",
       "\n",
       "Citations:\n",
       "\n",
       "* 1: [wikipedia.org](https://vertexaisearch.cloud.google.com/grounding-api-redirect/AZnLMfz_tCCuaueLZ9fJVZxBa5iJ_vt8mvaTZcryXesHQYHfESp6sZldeLWYTLko4jIUwvj5ne2pAbX1NTAa9APYvANMOOeZCdg_F3yyip1E46mJZznsuchgb04_H5E_a2A7jY1s2PL8tQ==)\n",
       "* 2: [hindustantimes.com](https://vertexaisearch.cloud.google.com/grounding-api-redirect/AZnLMfzuwbBu_zT2QjqFKqCd3KiwTD5VnX9liE7sVRsnOIcNFN6kNm1lIVC705_XSoa8_qyZiY21jSbLJ8mV9T_HDnZsFzEiJ9Wpj_PHyNrxyUkCjTTLwhKjIFQzKiZkw_eE-lN5T6BKgbwDm-bGunyZYjnlzBz0Yn6VJWd8PduwWTFYNALqT_yxpFQ2Ed-TZ-tPc7YV0oSQZEHx2UeedDmdIiRqzjBTyG771_OA-BSJIVHbLNnJAvoiH4ZUj7UyrOVwjxxvNX5W8ueIpy0=)\n",
       "* 3: [frontiertouring.com](https://vertexaisearch.cloud.google.com/grounding-api-redirect/AZnLMfweqf3C-0jeyBCYaBd7Os4aGSEu-Gs6RWRhfbzC7sl47MTXqIcQl7dBNhiFxkFcXthI8jVkbSfPFy5VHtQiaphovnwUjGCnBGURMG2zKN6q6EcxNgkVZ3QZkDXyIo4n8UDS5BcZNg==)\n"
      ],
      "text/plain": [
       "<IPython.core.display.Markdown object>"
      ]
     },
     "execution_count": 18,
     "metadata": {},
     "output_type": "execute_result"
    }
   ],
   "source": [
    "markdown_buffer = io.StringIO()\n",
    "\n",
    "# Print the text with footnote markers.\n",
    "markdown_buffer.write(\"Supported text:\\n\\n\")\n",
    "for support in supports:\n",
    "    markdown_buffer.write(\" * \")\n",
    "    markdown_buffer.write(\n",
    "        response.text[support.segment.start_index : support.segment.end_index]\n",
    "    )\n",
    "\n",
    "    for i in support.grounding_chunk_indices:\n",
    "        chunk = chunks[i].web\n",
    "        markdown_buffer.write(f\"<sup>[{i+1}]</sup>\")\n",
    "\n",
    "    markdown_buffer.write(\"\\n\\n\")\n",
    "\n",
    "\n",
    "# And print the footnotes.\n",
    "markdown_buffer.write(\"Citations:\\n\\n\")\n",
    "for i, chunk in enumerate(chunks, start=1):\n",
    "    markdown_buffer.write(f\"* {i}: [{chunk.web.title}]({chunk.web.uri})\\n\")\n",
    "\n",
    "\n",
    "Markdown(markdown_buffer.getvalue())"
   ]
  },
  {
   "cell_type": "markdown",
   "id": "703af790-42a0-4fac-a323-96b090eb3f47",
   "metadata": {},
   "source": [
    "<span style=\"font-size:18px; color:rgba(0, 0, 0, 0.5);\">Dynamic Grounding</span>\n",
    "\n",
    "---\n",
    "In a context where you may not know in advance whether to enable search grounding or not, you can provide the model with a threshold over which it will use search grounding. This is helpful in conversational contexts, where not every turn of conversation requires search data to support a response.\n",
    "\n",
    "If you know whether to enable Search for any given chat turn, you can provide the tool explicitly.\n",
    "\n",
    "\n",
    "<table align=left>\n",
    "  <td>\n",
    "    <a target=\"_blank\" href=\"https://aistudio.google.com/prompts/1VBx_R16kNWa8g7lpLxQPx_08sFtd7tcd\"><img src=\"https://ai.google.dev/site-assets/images/marketing/home/icon-ais.png\" style=\"height: 24px\" height=24/> Open in AI Studio</a>\n",
    "  </td>\n",
    "</table>"
   ]
  },
  {
   "cell_type": "code",
   "execution_count": 19,
   "id": "52da7753-ac6f-41fb-b2f5-955300cd417e",
   "metadata": {},
   "outputs": [
    {
     "data": {
      "text/markdown": [
       "Australia won the 2023 Cricket World Cup.  They defeated India in the final match by six wickets, securing their sixth World Cup title.\n"
      ],
      "text/plain": [
       "<IPython.core.display.Markdown object>"
      ]
     },
     "execution_count": 19,
     "metadata": {},
     "output_type": "execute_result"
    }
   ],
   "source": [
    "nosearch_model = genai.GenerativeModel(\"gemini-1.5-flash-002\")\n",
    "chat = nosearch_model.start_chat()\n",
    "\n",
    "# No search grounding.\n",
    "r = chat.send_message(\"Hello friendly chatbot!\")\n",
    "\n",
    "# Enable search for just this turn.\n",
    "r = chat.send_message(\n",
    "    \"Who took home the 2023 cricket world cup?\", tools=\"google_search_retrieval\"\n",
    ")\n",
    "\n",
    "Markdown(r.text)"
   ]
  },
  {
   "cell_type": "code",
   "execution_count": 20,
   "id": "5d290683-69f2-4b4f-9d0a-34e05eb49ee7",
   "metadata": {},
   "outputs": [
    {
     "data": {
      "text/html": [
       "<style>\n",
       ".container {\n",
       "  align-items: center;\n",
       "  border-radius: 8px;\n",
       "  display: flex;\n",
       "  font-family: Google Sans, Roboto, sans-serif;\n",
       "  font-size: 14px;\n",
       "  line-height: 20px;\n",
       "  padding: 8px 12px;\n",
       "}\n",
       ".chip {\n",
       "  display: inline-block;\n",
       "  border: solid 1px;\n",
       "  border-radius: 16px;\n",
       "  min-width: 14px;\n",
       "  padding: 5px 16px;\n",
       "  text-align: center;\n",
       "  user-select: none;\n",
       "  margin: 0 8px;\n",
       "  -webkit-tap-highlight-color: transparent;\n",
       "}\n",
       ".carousel {\n",
       "  overflow: auto;\n",
       "  scrollbar-width: none;\n",
       "  white-space: nowrap;\n",
       "  margin-right: -12px;\n",
       "}\n",
       ".headline {\n",
       "  display: flex;\n",
       "  margin-right: 4px;\n",
       "}\n",
       ".gradient-container {\n",
       "  position: relative;\n",
       "}\n",
       ".gradient {\n",
       "  position: absolute;\n",
       "  transform: translate(3px, -9px);\n",
       "  height: 36px;\n",
       "  width: 9px;\n",
       "}\n",
       "@media (prefers-color-scheme: light) {\n",
       "  .container {\n",
       "    background-color: #fafafa;\n",
       "    box-shadow: 0 0 0 1px #0000000f;\n",
       "  }\n",
       "  .headline-label {\n",
       "    color: #1f1f1f;\n",
       "  }\n",
       "  .chip {\n",
       "    background-color: #ffffff;\n",
       "    border-color: #d2d2d2;\n",
       "    color: #5e5e5e;\n",
       "    text-decoration: none;\n",
       "  }\n",
       "  .chip:hover {\n",
       "    background-color: #f2f2f2;\n",
       "  }\n",
       "  .chip:focus {\n",
       "    background-color: #f2f2f2;\n",
       "  }\n",
       "  .chip:active {\n",
       "    background-color: #d8d8d8;\n",
       "    border-color: #b6b6b6;\n",
       "  }\n",
       "  .logo-dark {\n",
       "    display: none;\n",
       "  }\n",
       "  .gradient {\n",
       "    background: linear-gradient(90deg, #fafafa 15%, #fafafa00 100%);\n",
       "  }\n",
       "}\n",
       "@media (prefers-color-scheme: dark) {\n",
       "  .container {\n",
       "    background-color: #1f1f1f;\n",
       "    box-shadow: 0 0 0 1px #ffffff26;\n",
       "  }\n",
       "  .headline-label {\n",
       "    color: #fff;\n",
       "  }\n",
       "  .chip {\n",
       "    background-color: #2c2c2c;\n",
       "    border-color: #3c4043;\n",
       "    color: #fff;\n",
       "    text-decoration: none;\n",
       "  }\n",
       "  .chip:hover {\n",
       "    background-color: #353536;\n",
       "  }\n",
       "  .chip:focus {\n",
       "    background-color: #353536;\n",
       "  }\n",
       "  .chip:active {\n",
       "    background-color: #464849;\n",
       "    border-color: #53575b;\n",
       "  }\n",
       "  .logo-light {\n",
       "    display: none;\n",
       "  }\n",
       "  .gradient {\n",
       "    background: linear-gradient(90deg, #1f1f1f 15%, #1f1f1f00 100%);\n",
       "  }\n",
       "}\n",
       "</style>\n",
       "<div class=\"container\">\n",
       "  <div class=\"headline\">\n",
       "    <svg class=\"logo-light\" width=\"18\" height=\"18\" viewBox=\"9 9 35 35\" fill=\"none\" xmlns=\"http://www.w3.org/2000/svg\">\n",
       "      <path fill-rule=\"evenodd\" clip-rule=\"evenodd\" d=\"M42.8622 27.0064C42.8622 25.7839 42.7525 24.6084 42.5487 23.4799H26.3109V30.1568H35.5897C35.1821 32.3041 33.9596 34.1222 32.1258 35.3448V39.6864H37.7213C40.9814 36.677 42.8622 32.2571 42.8622 27.0064V27.0064Z\" fill=\"#4285F4\"/>\n",
       "      <path fill-rule=\"evenodd\" clip-rule=\"evenodd\" d=\"M26.3109 43.8555C30.9659 43.8555 34.8687 42.3195 37.7213 39.6863L32.1258 35.3447C30.5898 36.3792 28.6306 37.0061 26.3109 37.0061C21.8282 37.0061 18.0195 33.9811 16.6559 29.906H10.9194V34.3573C13.7563 39.9841 19.5712 43.8555 26.3109 43.8555V43.8555Z\" fill=\"#34A853\"/>\n",
       "      <path fill-rule=\"evenodd\" clip-rule=\"evenodd\" d=\"M16.6559 29.8904C16.3111 28.8559 16.1074 27.7588 16.1074 26.6146C16.1074 25.4704 16.3111 24.3733 16.6559 23.3388V18.8875H10.9194C9.74388 21.2072 9.06992 23.8247 9.06992 26.6146C9.06992 29.4045 9.74388 32.022 10.9194 34.3417L15.3864 30.8621L16.6559 29.8904V29.8904Z\" fill=\"#FBBC05\"/>\n",
       "      <path fill-rule=\"evenodd\" clip-rule=\"evenodd\" d=\"M26.3109 16.2386C28.85 16.2386 31.107 17.1164 32.9095 18.8091L37.8466 13.8719C34.853 11.082 30.9659 9.3736 26.3109 9.3736C19.5712 9.3736 13.7563 13.245 10.9194 18.8875L16.6559 23.3388C18.0195 19.2636 21.8282 16.2386 26.3109 16.2386V16.2386Z\" fill=\"#EA4335\"/>\n",
       "    </svg>\n",
       "    <svg class=\"logo-dark\" width=\"18\" height=\"18\" viewBox=\"0 0 48 48\" xmlns=\"http://www.w3.org/2000/svg\">\n",
       "      <circle cx=\"24\" cy=\"23\" fill=\"#FFF\" r=\"22\"/>\n",
       "      <path d=\"M33.76 34.26c2.75-2.56 4.49-6.37 4.49-11.26 0-.89-.08-1.84-.29-3H24.01v5.99h8.03c-.4 2.02-1.5 3.56-3.07 4.56v.75l3.91 2.97h.88z\" fill=\"#4285F4\"/>\n",
       "      <path d=\"M15.58 25.77A8.845 8.845 0 0 0 24 31.86c1.92 0 3.62-.46 4.97-1.31l4.79 3.71C31.14 36.7 27.65 38 24 38c-5.93 0-11.01-3.4-13.45-8.36l.17-1.01 4.06-2.85h.8z\" fill=\"#34A853\"/>\n",
       "      <path d=\"M15.59 20.21a8.864 8.864 0 0 0 0 5.58l-5.03 3.86c-.98-2-1.53-4.25-1.53-6.64 0-2.39.55-4.64 1.53-6.64l1-.22 3.81 2.98.22 1.08z\" fill=\"#FBBC05\"/>\n",
       "      <path d=\"M24 14.14c2.11 0 4.02.75 5.52 1.98l4.36-4.36C31.22 9.43 27.81 8 24 8c-5.93 0-11.01 3.4-13.45 8.36l5.03 3.85A8.86 8.86 0 0 1 24 14.14z\" fill=\"#EA4335\"/>\n",
       "    </svg>\n",
       "    <div class=\"gradient-container\"><div class=\"gradient\"></div></div>\n",
       "  </div>\n",
       "  <div class=\"carousel\">\n",
       "    <a class=\"chip\" href=\"https://vertexaisearch.cloud.google.com/grounding-api-redirect/AZnLMfz168vRH4fjkp_Am1Xh2RjW4KhDqIgm32y5iElShJwjrUaQjR3zgQ04S9EK1kfzWPNfbhs9wocBS-j5Q6Mks4hEJ0_Y1JdqxJaEWrxDX4DDTvUNdQGUCTC9jK5VIX_mK8yPgPdAvj8ZMyjYWXwa-iG4mGTNeCHRH2sLkrumBy4zD96f1CrMFM9b-7f_fDMnvvONTnWtvhbIcSovOLEsBwIMCXgu4RtN54U=\">Who won the 2023 cricket world cup?</a>\n",
       "  </div>\n",
       "</div>\n"
      ],
      "text/plain": [
       "<IPython.core.display.HTML object>"
      ]
     },
     "execution_count": 20,
     "metadata": {},
     "output_type": "execute_result"
    }
   ],
   "source": [
    "HTML(r.candidates[0].grounding_metadata.search_entry_point.rendered_content)"
   ]
  },
  {
   "cell_type": "markdown",
   "id": "1781e0b5-6ee3-4c56-8242-ed9571ed80b0",
   "metadata": {},
   "source": [
    "Or you can let the Gemini API calculate a likelihood that the response needs search backing, and define the threshold to use."
   ]
  },
  {
   "cell_type": "code",
   "execution_count": 21,
   "id": "1d34d2cb-d7d7-42d0-a98e-ec419b82daa6",
   "metadata": {},
   "outputs": [
    {
     "name": "stdout",
     "output_type": "stream",
     "text": [
      "First turn: score=0.400390625\n",
      "Second turn: score=0.69140625\n",
      "\n"
     ]
    },
    {
     "data": {
      "text/markdown": [
       "Australia won the 2023 Cricket World Cup, defeating India in the final by six wickets.  This was Australia's sixth World Cup victory, a record-extending win.\n"
      ],
      "text/plain": [
       "<IPython.core.display.Markdown object>"
      ]
     },
     "metadata": {},
     "output_type": "display_data"
    }
   ],
   "source": [
    "# The dynamic retrieval score is a probability, so the threshold\n",
    "# must also be bound by [0, 1].\n",
    "search_config = {\n",
    "    \"dynamic_retrieval_config\": {\"mode\": \"MODE_DYNAMIC\", \"dynamic_threshold\": 0.5}\n",
    "}\n",
    "\n",
    "maybe_search_model = genai.GenerativeModel(\n",
    "    \"gemini-1.5-flash-002\", tools={\"google_search_retrieval\": search_config}\n",
    ")\n",
    "\n",
    "chat = maybe_search_model.start_chat()\n",
    "\n",
    "r = chat.send_message(\"Hello friendly chatbot!\")\n",
    "rc = r.candidates[0]\n",
    "score = rc.grounding_metadata.retrieval_metadata.google_search_dynamic_retrieval_score\n",
    "print(f\"First turn: {score=}\")\n",
    "\n",
    "r = chat.send_message(\"Who took home the 2023 cricket world cup?\")\n",
    "rc = r.candidates[0]\n",
    "score = rc.grounding_metadata.retrieval_metadata.google_search_dynamic_retrieval_score\n",
    "print(f\"Second turn: {score=}\")\n",
    "print()\n",
    "\n",
    "display(Markdown(r.text))"
   ]
  },
  {
   "cell_type": "code",
   "execution_count": 22,
   "id": "ac8f0974-644b-4845-b9b8-94638a12bc40",
   "metadata": {},
   "outputs": [
    {
     "data": {
      "text/html": [
       "<style>\n",
       ".container {\n",
       "  align-items: center;\n",
       "  border-radius: 8px;\n",
       "  display: flex;\n",
       "  font-family: Google Sans, Roboto, sans-serif;\n",
       "  font-size: 14px;\n",
       "  line-height: 20px;\n",
       "  padding: 8px 12px;\n",
       "}\n",
       ".chip {\n",
       "  display: inline-block;\n",
       "  border: solid 1px;\n",
       "  border-radius: 16px;\n",
       "  min-width: 14px;\n",
       "  padding: 5px 16px;\n",
       "  text-align: center;\n",
       "  user-select: none;\n",
       "  margin: 0 8px;\n",
       "  -webkit-tap-highlight-color: transparent;\n",
       "}\n",
       ".carousel {\n",
       "  overflow: auto;\n",
       "  scrollbar-width: none;\n",
       "  white-space: nowrap;\n",
       "  margin-right: -12px;\n",
       "}\n",
       ".headline {\n",
       "  display: flex;\n",
       "  margin-right: 4px;\n",
       "}\n",
       ".gradient-container {\n",
       "  position: relative;\n",
       "}\n",
       ".gradient {\n",
       "  position: absolute;\n",
       "  transform: translate(3px, -9px);\n",
       "  height: 36px;\n",
       "  width: 9px;\n",
       "}\n",
       "@media (prefers-color-scheme: light) {\n",
       "  .container {\n",
       "    background-color: #fafafa;\n",
       "    box-shadow: 0 0 0 1px #0000000f;\n",
       "  }\n",
       "  .headline-label {\n",
       "    color: #1f1f1f;\n",
       "  }\n",
       "  .chip {\n",
       "    background-color: #ffffff;\n",
       "    border-color: #d2d2d2;\n",
       "    color: #5e5e5e;\n",
       "    text-decoration: none;\n",
       "  }\n",
       "  .chip:hover {\n",
       "    background-color: #f2f2f2;\n",
       "  }\n",
       "  .chip:focus {\n",
       "    background-color: #f2f2f2;\n",
       "  }\n",
       "  .chip:active {\n",
       "    background-color: #d8d8d8;\n",
       "    border-color: #b6b6b6;\n",
       "  }\n",
       "  .logo-dark {\n",
       "    display: none;\n",
       "  }\n",
       "  .gradient {\n",
       "    background: linear-gradient(90deg, #fafafa 15%, #fafafa00 100%);\n",
       "  }\n",
       "}\n",
       "@media (prefers-color-scheme: dark) {\n",
       "  .container {\n",
       "    background-color: #1f1f1f;\n",
       "    box-shadow: 0 0 0 1px #ffffff26;\n",
       "  }\n",
       "  .headline-label {\n",
       "    color: #fff;\n",
       "  }\n",
       "  .chip {\n",
       "    background-color: #2c2c2c;\n",
       "    border-color: #3c4043;\n",
       "    color: #fff;\n",
       "    text-decoration: none;\n",
       "  }\n",
       "  .chip:hover {\n",
       "    background-color: #353536;\n",
       "  }\n",
       "  .chip:focus {\n",
       "    background-color: #353536;\n",
       "  }\n",
       "  .chip:active {\n",
       "    background-color: #464849;\n",
       "    border-color: #53575b;\n",
       "  }\n",
       "  .logo-light {\n",
       "    display: none;\n",
       "  }\n",
       "  .gradient {\n",
       "    background: linear-gradient(90deg, #1f1f1f 15%, #1f1f1f00 100%);\n",
       "  }\n",
       "}\n",
       "</style>\n",
       "<div class=\"container\">\n",
       "  <div class=\"headline\">\n",
       "    <svg class=\"logo-light\" width=\"18\" height=\"18\" viewBox=\"9 9 35 35\" fill=\"none\" xmlns=\"http://www.w3.org/2000/svg\">\n",
       "      <path fill-rule=\"evenodd\" clip-rule=\"evenodd\" d=\"M42.8622 27.0064C42.8622 25.7839 42.7525 24.6084 42.5487 23.4799H26.3109V30.1568H35.5897C35.1821 32.3041 33.9596 34.1222 32.1258 35.3448V39.6864H37.7213C40.9814 36.677 42.8622 32.2571 42.8622 27.0064V27.0064Z\" fill=\"#4285F4\"/>\n",
       "      <path fill-rule=\"evenodd\" clip-rule=\"evenodd\" d=\"M26.3109 43.8555C30.9659 43.8555 34.8687 42.3195 37.7213 39.6863L32.1258 35.3447C30.5898 36.3792 28.6306 37.0061 26.3109 37.0061C21.8282 37.0061 18.0195 33.9811 16.6559 29.906H10.9194V34.3573C13.7563 39.9841 19.5712 43.8555 26.3109 43.8555V43.8555Z\" fill=\"#34A853\"/>\n",
       "      <path fill-rule=\"evenodd\" clip-rule=\"evenodd\" d=\"M16.6559 29.8904C16.3111 28.8559 16.1074 27.7588 16.1074 26.6146C16.1074 25.4704 16.3111 24.3733 16.6559 23.3388V18.8875H10.9194C9.74388 21.2072 9.06992 23.8247 9.06992 26.6146C9.06992 29.4045 9.74388 32.022 10.9194 34.3417L15.3864 30.8621L16.6559 29.8904V29.8904Z\" fill=\"#FBBC05\"/>\n",
       "      <path fill-rule=\"evenodd\" clip-rule=\"evenodd\" d=\"M26.3109 16.2386C28.85 16.2386 31.107 17.1164 32.9095 18.8091L37.8466 13.8719C34.853 11.082 30.9659 9.3736 26.3109 9.3736C19.5712 9.3736 13.7563 13.245 10.9194 18.8875L16.6559 23.3388C18.0195 19.2636 21.8282 16.2386 26.3109 16.2386V16.2386Z\" fill=\"#EA4335\"/>\n",
       "    </svg>\n",
       "    <svg class=\"logo-dark\" width=\"18\" height=\"18\" viewBox=\"0 0 48 48\" xmlns=\"http://www.w3.org/2000/svg\">\n",
       "      <circle cx=\"24\" cy=\"23\" fill=\"#FFF\" r=\"22\"/>\n",
       "      <path d=\"M33.76 34.26c2.75-2.56 4.49-6.37 4.49-11.26 0-.89-.08-1.84-.29-3H24.01v5.99h8.03c-.4 2.02-1.5 3.56-3.07 4.56v.75l3.91 2.97h.88z\" fill=\"#4285F4\"/>\n",
       "      <path d=\"M15.58 25.77A8.845 8.845 0 0 0 24 31.86c1.92 0 3.62-.46 4.97-1.31l4.79 3.71C31.14 36.7 27.65 38 24 38c-5.93 0-11.01-3.4-13.45-8.36l.17-1.01 4.06-2.85h.8z\" fill=\"#34A853\"/>\n",
       "      <path d=\"M15.59 20.21a8.864 8.864 0 0 0 0 5.58l-5.03 3.86c-.98-2-1.53-4.25-1.53-6.64 0-2.39.55-4.64 1.53-6.64l1-.22 3.81 2.98.22 1.08z\" fill=\"#FBBC05\"/>\n",
       "      <path d=\"M24 14.14c2.11 0 4.02.75 5.52 1.98l4.36-4.36C31.22 9.43 27.81 8 24 8c-5.93 0-11.01 3.4-13.45 8.36l5.03 3.85A8.86 8.86 0 0 1 24 14.14z\" fill=\"#EA4335\"/>\n",
       "    </svg>\n",
       "    <div class=\"gradient-container\"><div class=\"gradient\"></div></div>\n",
       "  </div>\n",
       "  <div class=\"carousel\">\n",
       "    <a class=\"chip\" href=\"https://vertexaisearch.cloud.google.com/grounding-api-redirect/AZnLMfw_tgfa0E3oqrdInNqfDhzSk5pLBggzFfZctJJHq8eI2Oem35rXAbly92MginbjRivvE6Hv4r53VhA7nh9y1UQus-Sr4pT9IhWR3QfZUMDe5JfSkE3tvgL30hC86jBIY1wNUKj7baSGLCEJKd4ZKm8nr_QbmvR3PIkFlNefaaipHvY8bi6lAWx3vWwXLO1s1WphlJUlph3Nwk1POA27rWioRGWBpgs=\">who won the 2023 cricket world cup</a>\n",
       "  </div>\n",
       "</div>\n"
      ],
      "text/plain": [
       "<IPython.core.display.HTML object>"
      ]
     },
     "execution_count": 22,
     "metadata": {},
     "output_type": "execute_result"
    }
   ],
   "source": [
    "HTML(rc.grounding_metadata.search_entry_point.rendered_content)"
   ]
  },
  {
   "cell_type": "markdown",
   "id": "f9c0d6eb-6c69-43aa-9b29-9cf3a11f060d",
   "metadata": {},
   "source": [
    "<span style=\"font-size:18px; color:rgba(0, 0, 0, 0.5);\">Dynamic Grounding</span>\n",
    "\n",
    "---\n",
    "When using search grounding, there are some specific requirements that you must follow, including when and how to show search suggestions, and how to use the grounding links.  Be sure to read and follow the details in the [search grounding capability guide](https://ai.google.dev/gemini-api/docs/grounding) and the [search suggestions guide](https://ai.google.dev/gemini-api/docs/grounding/search-suggestions)."
   ]
  },
  {
   "cell_type": "code",
   "execution_count": null,
   "id": "27eea4e8-c2e0-4551-827c-c93b734c8ac4",
   "metadata": {},
   "outputs": [],
   "source": []
  }
 ],
 "metadata": {
  "kernelspec": {
   "display_name": "Python 3",
   "language": "python",
   "name": "python3"
  },
  "language_info": {
   "codemirror_mode": {
    "name": "ipython",
    "version": 3
   },
   "file_extension": ".py",
   "mimetype": "text/x-python",
   "name": "python",
   "nbconvert_exporter": "python",
   "pygments_lexer": "ipython3",
   "version": "3.12.7"
  }
 },
 "nbformat": 4,
 "nbformat_minor": 5
}
